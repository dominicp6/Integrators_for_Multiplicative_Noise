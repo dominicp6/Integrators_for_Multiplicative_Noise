{
 "cells": [
  {
   "cell_type": "code",
   "execution_count": 1,
   "metadata": {},
   "outputs": [
    {
     "data": {
      "text/plain": [
       "Main.Calculus"
      ]
     },
     "execution_count": 1,
     "metadata": {},
     "output_type": "execute_result"
    }
   ],
   "source": [
    "include(\"./general_utils/integrators.jl\")\n",
    "include(\"./general_utils/potentials.jl\")\n",
    "include(\"./general_utils/diffusion_tensors.jl\")\n",
    "include(\"./general_utils/probability_utils.jl\")\n",
    "include(\"./experiment_utils/experiments1D.jl\")\n",
    "include(\"./general_utils/integrator_utils.jl\")\n",
    "include(\"./general_utils/calculus.jl\")"
   ]
  },
  {
   "cell_type": "code",
   "execution_count": 2,
   "metadata": {},
   "outputs": [],
   "source": [
    "import .Integrators: eugen_gilles1D, euler_maruyama1D, hummer_leimkuhler_matthews1D, leimkuhler_matthews1D, leimkuhler_matthews_markovian1D, limit_method_with_variable_diffusion1D\n",
    "import .Potentials: softWell1D, q4Potential\n",
    "import .DiffusionTensors: Dconst1D, Dabs1D, Dquadratic1D, Dcosperturb1D\n",
    "import .ProbabilityUtils: compute_1D_invariant_distribution\n",
    "import .Experiments: master_1D_experiment\n",
    "import .IntegratorUtils: MT2_1D, W2Ito1_1D\n",
    "import .Calculus: differentiate1D"
   ]
  },
  {
   "cell_type": "code",
   "execution_count": 3,
   "metadata": {},
   "outputs": [],
   "source": [
    "exp_name = \"eugen_gilles_cos_LMVD_1D_100K\"    # Name\n",
    "master_dir = \"simulation_results\"  # Directory to save results in\n",
    "T = 100000                           # length of simulation\n",
    "sigma = 1                            # value of kT (noise amplitude scaling)\n",
    "num_repeats = 6     \n",
    "\n",
    "# The potential and diffusion coefficents to use\n",
    "potential = q4Potential\n",
    "diffusion = Dcosperturb1D\n",
    "\n",
    "save_dir = \"$(master_dir)/$(exp_name)\"\n",
    "chunk_size = 100000;"
   ]
  },
  {
   "cell_type": "code",
   "execution_count": 4,
   "metadata": {},
   "outputs": [],
   "source": [
    "# The step sizes to use (to use a single step size, set stepsizes = [stepsize])\n",
    "num_step_sizes = 10\n",
    "\n",
    "# The range of stepsizes to use (defualt 10 step sizes in the range 10^{-2} to 10^{-1})\n",
    "stepsizes = 10 .^ range(-2.0,stop=-1.0,length=num_step_sizes);"
   ]
  },
  {
   "cell_type": "code",
   "execution_count": 5,
   "metadata": {},
   "outputs": [],
   "source": [
    "# The integrators to use (comma separated list)\n",
    "integrators = [limit_method_with_variable_diffusion1D, eugen_gilles1D];"
   ]
  },
  {
   "cell_type": "code",
   "execution_count": 6,
   "metadata": {},
   "outputs": [],
   "source": [
    "# The histogram parameters for binning\n",
    "xmin = -5\n",
    "xmax = 5\n",
    "n_bins = 30\n",
    "\n",
    "bin_boundaries = range(xmin, xmax, length=n_bins+1);"
   ]
  },
  {
   "cell_type": "code",
   "execution_count": 7,
   "metadata": {},
   "outputs": [
    {
     "data": {
      "text/plain": [
       "1"
      ]
     },
     "execution_count": 7,
     "metadata": {},
     "output_type": "execute_result"
    }
   ],
   "source": [
    "noise_integrator = W2Ito1_1D\n",
    "n = 1"
   ]
  },
  {
   "cell_type": "code",
   "execution_count": 8,
   "metadata": {},
   "outputs": [
    {
     "name": "stderr",
     "output_type": "stream",
     "text": [
      "\u001b[36m\u001b[1m[ \u001b[22m\u001b[39m\u001b[36m\u001b[1mInfo: \u001b[22m\u001b[39mRunning: eugen_gilles_cos_LMVD_1D_100K\n",
      "\u001b[36m\u001b[1m[ \u001b[22m\u001b[39m\u001b[36m\u001b[1mInfo: \u001b[22m\u001b[39mComputing the Invariant Distribution\n"
     ]
    },
    {
     "name": "stdout",
     "output_type": "stream",
     "text": [
      "Integral of f: 2.1558005495409276\n",
      "Error in integral of f: 7.529340034491103e-10\n"
     ]
    },
    {
     "name": "stderr",
     "output_type": "stream",
     "text": [
      "\u001b[36m\u001b[1m[ \u001b[22m\u001b[39m\u001b[36m\u001b[1mInfo: \u001b[22m\u001b[39mRunning Experiments\n",
      "\u001b[36m\u001b[1m[ \u001b[22m\u001b[39m\u001b[36m\u001b[1mInfo: \u001b[22m\u001b[39mRunning limit_method_with_variable_diffusion1D experiment\n",
      "\u001b[36m\u001b[1m[ \u001b[22m\u001b[39m\u001b[36m\u001b[1mInfo: \u001b[22m\u001b[39mCreated directory simulation_results/eugen_gilles_cos_LMVD_1D_100K\n",
      "\u001b[36m\u001b[1m[ \u001b[22m\u001b[39m\u001b[36m\u001b[1mInfo: \u001b[22m\u001b[39mSaving metadata\n",
      "16.7%┣███████▏                                   ┫ 1/6 [00:01<Inf:Inf, InfGs/it]\n",
      "100.0%┣███████████████████████████████████████████████┫ 6/6 [00:01<00:00, 4it/s]\n",
      "\u001b[36m\u001b[1m[ \u001b[22m\u001b[39m\u001b[36m\u001b[1mInfo: \u001b[22m\u001b[39mSaving data\n",
      "\u001b[36m\u001b[1m[ \u001b[22m\u001b[39m\u001b[36m\u001b[1mInfo: \u001b[22m\u001b[39mMean L1 errors: [0.00016039478140620632; 0.0001870047074835813; 0.00019724911178784692; 0.00021083197856729268; 0.00019109941246530453; 0.00024242948954306175; 0.0002519750946318988; 0.0003000728356273731; 0.00039360453562445314; 0.0006814981184621463;;]\n",
      "\u001b[36m\u001b[1m[ \u001b[22m\u001b[39m\u001b[36m\u001b[1mInfo: \u001b[22m\u001b[39mStandard deviation of L1 errors: [4.773105790615298e-5; 4.720894901841898e-5; 4.244027974936376e-5; 3.478855817427656e-5; 2.944369995027645e-5; 4.095142029895217e-5; 5.167050002324459e-5; 6.548536022609307e-5; 5.6602937599093957e-5; 4.256051442384715e-5;;]\n",
      "\u001b[36m\u001b[1m[ \u001b[22m\u001b[39m\u001b[36m\u001b[1mInfo: \u001b[22m\u001b[39mRunning eugen_gilles1D experiment\n",
      "16.7%┣███████▏                                   ┫ 1/6 [00:00<Inf:Inf, InfGs/it]\n",
      "100.0%┣██████████████████████████████████████████████┫ 6/6 [00:00<00:00, 55it/s]\n",
      "\u001b[36m\u001b[1m[ \u001b[22m\u001b[39m\u001b[36m\u001b[1mInfo: \u001b[22m\u001b[39mSaving data\n",
      "\u001b[36m\u001b[1m[ \u001b[22m\u001b[39m\u001b[36m\u001b[1mInfo: \u001b[22m\u001b[39mMean L1 errors: [6.658780402337452e-5; 8.95714414835917e-5; 6.39447954391204e-5; 9.245473156906362e-5; 0.00010427950679623121; 9.506875374013753e-5; 0.00016654194633632197; 0.0002646908973244887; 0.0004484829361435071; 0.0008509812422685356;;]\n",
      "\u001b[36m\u001b[1m[ \u001b[22m\u001b[39m\u001b[36m\u001b[1mInfo: \u001b[22m\u001b[39mStandard deviation of L1 errors: [2.5059739682490522e-5; 3.0430869480236035e-5; 1.358902153551651e-5; 2.9577178893515756e-5; 3.179312073354204e-5; 2.4682953390481086e-5; 3.853792517835132e-5; 5.1011864119276564e-5; 3.37626129887848e-5; 5.611819933621178e-5;;]\n"
     ]
    }
   ],
   "source": [
    "@info \"Running: $(exp_name)\"\n",
    "\n",
    "master_1D_experiment(integrators, num_repeats, potential, diffusion, T, sigma, stepsizes, bin_boundaries, save_dir; chunk_size=chunk_size, x0=nothing, noise_integrator=noise_integrator, n=n)"
   ]
  },
  {
   "cell_type": "code",
   "execution_count": 5,
   "metadata": {},
   "outputs": [
    {
     "ename": "LoadError",
     "evalue": "UndefVarError: `Dprime` not defined",
     "output_type": "error",
     "traceback": [
      "UndefVarError: `Dprime` not defined",
      "",
      "Stacktrace:",
      " [1] limit_method_with_variable_diffusion1D(q0::Int64, Vprime::RuntimeGeneratedFunctions.RuntimeGeneratedFunction{(:x,), Symbolics.var\"#_RGF_ModTag\", Symbolics.var\"#_RGF_ModTag\", (0x63d02eb4, 0x8f9b5420, 0x87a9ef73, 0xf0418426, 0x94d01813), Expr}, D::typeof(Dcosperturb1D), D2prime::Function, sigma::Int64, m::Int64, dt::Float64, Rₖ::Nothing, noise_integrator::Nothing)",
      "   @ Main.Integrators ~/JuliaProjects/Integrators_for_Multiplicative_Noise/general_utils/integrators.jl:113",
      " [2] limit_method_with_variable_diffusion1D(q0::Int64, Vprime::Function, D::Function, D2prime::Function, sigma::Int64, m::Int64, dt::Float64, Rₖ::Nothing)",
      "   @ Main.Integrators ~/JuliaProjects/Integrators_for_Multiplicative_Noise/general_utils/integrators.jl:96",
      " [3] top-level scope",
      "   @ In[5]:18"
     ]
    }
   ],
   "source": [
    "using Plots\n",
    "using Random\n",
    "\n",
    "x0 = 0\n",
    "Vprime = differentiate1D(potential)\n",
    "D_squared = x -> diffusion(x)^2\n",
    "div_DDT = differentiate1D(D_squared)\n",
    "sigma = 1\n",
    "m = 10000\n",
    "dt = 0.01\n",
    "# reset random seed for reproducibility\n",
    "Random.seed!(1234)\n",
    "x_MT_2_1D, _ = eugen_gilles1D(x0, Vprime, diffusion, div_DDT, sigma::Number, m::Integer, dt::Number, nothing, MT2_1D);\n",
    "Random.seed!(1234)\n",
    "x_W2Ito1_1D, _ = eugen_gilles1D(x0, Vprime, diffusion, div_DDT, sigma::Number, m::Integer, dt::Number, nothing, W2Ito1_1D);\n",
    "Random.seed!(1234)\n",
    "div_D = differentiate1D(diffusion)\n",
    "x_LMVD, _ = limit_method_with_variable_diffusion1D(x0, Vprime, diffusion, div_D, sigma::Number, m::Integer, dt::Number, nothing);\n",
    "\n",
    "plot(x_MT_2_1D, label=\"MT_2\")\n",
    "#plot!(x_W2Ito1_1D, label=\"W2Ito1\")\n",
    "display(plot!(x_LMVD, label=\"LMVD\"))\n",
    "\n",
    "#display(plot(x_MT_2_1D - x_W2Ito1_1D, label=\"MT_2 - W2Ito1\"))\n",
    "#display(plot(x_MT_2_1D - x_EM, label=\"MT_2 - EM\"))"
   ]
  },
  {
   "cell_type": "code",
   "execution_count": 20,
   "metadata": {},
   "outputs": [
    {
     "ename": "LoadError",
     "evalue": "InexactError: Int64(NaN)",
     "output_type": "error",
     "traceback": [
      "InexactError: Int64(NaN)",
      "",
      "Stacktrace:",
      "  [1] Int64",
      "    @ ./float.jl:900 [inlined]",
      "  [2] perform_step!(integrator::StochasticDiffEq.SDEIntegrator{TangXiaoSROCK2{Nothing}, false, Float64, Float64, Float64, Float64, SciMLBase.NullParameters, Float64, Float64, Float64, NoiseProcess{Float64, 1, Float64, Float64, Nothing, Nothing, typeof(DiffEqNoiseProcess.WHITE_NOISE_DIST), typeof(DiffEqNoiseProcess.WHITE_NOISE_BRIDGE), false, ResettableStacks.ResettableStack{Tuple{Float64, Float64, Nothing}, false}, ResettableStacks.ResettableStack{Tuple{Float64, Float64, Nothing}, false}, RSWM{Float64}, Nothing, RandomNumbers.Xorshifts.Xoroshiro128Plus}, Nothing, Float64, RODESolution{Float64, 1, Vector{Float64}, Nothing, Nothing, Vector{Float64}, NoiseProcess{Float64, 1, Float64, Float64, Nothing, Nothing, typeof(DiffEqNoiseProcess.WHITE_NOISE_DIST), typeof(DiffEqNoiseProcess.WHITE_NOISE_BRIDGE), false, ResettableStacks.ResettableStack{Tuple{Float64, Float64, Nothing}, false}, ResettableStacks.ResettableStack{Tuple{Float64, Float64, Nothing}, false}, RSWM{Float64}, Nothing, RandomNumbers.Xorshifts.Xoroshiro128Plus}, SDEProblem{Float64, Tuple{Float64, Float64}, false, SciMLBase.NullParameters, Nothing, SDEFunction{false, SciMLBase.FullSpecialize, typeof(f), typeof(g), LinearAlgebra.UniformScaling{Bool}, Nothing, Nothing, Nothing, Nothing, Nothing, Nothing, Nothing, Nothing, Nothing, Nothing, Nothing, Nothing, Nothing, Nothing, typeof(SciMLBase.DEFAULT_OBSERVED), Nothing, Nothing}, typeof(g), Base.Pairs{Symbol, Union{}, Tuple{}, NamedTuple{(), Tuple{}}}, Nothing}, TangXiaoSROCK2{Nothing}, StochasticDiffEq.LinearInterpolationData{Vector{Float64}, Vector{Float64}}, DiffEqBase.Stats, Nothing}, StochasticDiffEq.TangXiaoSROCK2ConstantCache{Float64, Float64}, SDEFunction{false, SciMLBase.FullSpecialize, typeof(f), typeof(g), LinearAlgebra.UniformScaling{Bool}, Nothing, Nothing, Nothing, Nothing, Nothing, Nothing, Nothing, Nothing, Nothing, Nothing, Nothing, Nothing, Nothing, Nothing, typeof(SciMLBase.DEFAULT_OBSERVED), Nothing, Nothing}, typeof(g), Nothing, StochasticDiffEq.SDEOptions{Float64, Float64, PIController{Float64}, typeof(DiffEqBase.ODE_DEFAULT_NORM), Nothing, CallbackSet{Tuple{}, Tuple{}}, typeof(DiffEqBase.ODE_DEFAULT_ISOUTOFDOMAIN), typeof(DiffEqBase.ODE_DEFAULT_PROG_MESSAGE), typeof(DiffEqBase.ODE_DEFAULT_UNSTABLE_CHECK), DataStructures.BinaryHeap{Float64, DataStructures.FasterForward}, DataStructures.BinaryHeap{Float64, DataStructures.FasterForward}, Nothing, Nothing, Int64, Float64, Float64, Float64, Tuple{}, Tuple{}, Tuple{}}, Nothing, Float64, Nothing, Nothing}, cache::StochasticDiffEq.TangXiaoSROCK2ConstantCache{Float64, Float64})",
      "    @ StochasticDiffEq ~/.julia/packages/StochasticDiffEq/WPfDF/src/perform_step/SROCK_perform_step.jl:827",
      "  [3] solve!(integrator::StochasticDiffEq.SDEIntegrator{TangXiaoSROCK2{Nothing}, false, Float64, Float64, Float64, Float64, SciMLBase.NullParameters, Float64, Float64, Float64, NoiseProcess{Float64, 1, Float64, Float64, Nothing, Nothing, typeof(DiffEqNoiseProcess.WHITE_NOISE_DIST), typeof(DiffEqNoiseProcess.WHITE_NOISE_BRIDGE), false, ResettableStacks.ResettableStack{Tuple{Float64, Float64, Nothing}, false}, ResettableStacks.ResettableStack{Tuple{Float64, Float64, Nothing}, false}, RSWM{Float64}, Nothing, RandomNumbers.Xorshifts.Xoroshiro128Plus}, Nothing, Float64, RODESolution{Float64, 1, Vector{Float64}, Nothing, Nothing, Vector{Float64}, NoiseProcess{Float64, 1, Float64, Float64, Nothing, Nothing, typeof(DiffEqNoiseProcess.WHITE_NOISE_DIST), typeof(DiffEqNoiseProcess.WHITE_NOISE_BRIDGE), false, ResettableStacks.ResettableStack{Tuple{Float64, Float64, Nothing}, false}, ResettableStacks.ResettableStack{Tuple{Float64, Float64, Nothing}, false}, RSWM{Float64}, Nothing, RandomNumbers.Xorshifts.Xoroshiro128Plus}, SDEProblem{Float64, Tuple{Float64, Float64}, false, SciMLBase.NullParameters, Nothing, SDEFunction{false, SciMLBase.FullSpecialize, typeof(f), typeof(g), LinearAlgebra.UniformScaling{Bool}, Nothing, Nothing, Nothing, Nothing, Nothing, Nothing, Nothing, Nothing, Nothing, Nothing, Nothing, Nothing, Nothing, Nothing, typeof(SciMLBase.DEFAULT_OBSERVED), Nothing, Nothing}, typeof(g), Base.Pairs{Symbol, Union{}, Tuple{}, NamedTuple{(), Tuple{}}}, Nothing}, TangXiaoSROCK2{Nothing}, StochasticDiffEq.LinearInterpolationData{Vector{Float64}, Vector{Float64}}, DiffEqBase.Stats, Nothing}, StochasticDiffEq.TangXiaoSROCK2ConstantCache{Float64, Float64}, SDEFunction{false, SciMLBase.FullSpecialize, typeof(f), typeof(g), LinearAlgebra.UniformScaling{Bool}, Nothing, Nothing, Nothing, Nothing, Nothing, Nothing, Nothing, Nothing, Nothing, Nothing, Nothing, Nothing, Nothing, Nothing, typeof(SciMLBase.DEFAULT_OBSERVED), Nothing, Nothing}, typeof(g), Nothing, StochasticDiffEq.SDEOptions{Float64, Float64, PIController{Float64}, typeof(DiffEqBase.ODE_DEFAULT_NORM), Nothing, CallbackSet{Tuple{}, Tuple{}}, typeof(DiffEqBase.ODE_DEFAULT_ISOUTOFDOMAIN), typeof(DiffEqBase.ODE_DEFAULT_PROG_MESSAGE), typeof(DiffEqBase.ODE_DEFAULT_UNSTABLE_CHECK), DataStructures.BinaryHeap{Float64, DataStructures.FasterForward}, DataStructures.BinaryHeap{Float64, DataStructures.FasterForward}, Nothing, Nothing, Int64, Float64, Float64, Float64, Tuple{}, Tuple{}, Tuple{}}, Nothing, Float64, Nothing, Nothing})",
      "    @ StochasticDiffEq ~/.julia/packages/StochasticDiffEq/WPfDF/src/solve.jl:618",
      "  [4] #__solve#107",
      "    @ ~/.julia/packages/StochasticDiffEq/WPfDF/src/solve.jl:7 [inlined]",
      "  [5] __solve (repeats 5 times)",
      "    @ ~/.julia/packages/StochasticDiffEq/WPfDF/src/solve.jl:1 [inlined]",
      "  [6] #solve_call#34",
      "    @ ~/.julia/packages/DiffEqBase/H7x4Q/src/solve.jl:567 [inlined]",
      "  [7] solve_call",
      "    @ ~/.julia/packages/DiffEqBase/H7x4Q/src/solve.jl:533 [inlined]",
      "  [8] solve_up(prob::SDEProblem{Float64, Tuple{Float64, Float64}, false, SciMLBase.NullParameters, Nothing, SDEFunction{false, SciMLBase.FullSpecialize, typeof(f), typeof(g), LinearAlgebra.UniformScaling{Bool}, Nothing, Nothing, Nothing, Nothing, Nothing, Nothing, Nothing, Nothing, Nothing, Nothing, Nothing, Nothing, Nothing, Nothing, typeof(SciMLBase.DEFAULT_OBSERVED), Nothing, Nothing}, typeof(g), Base.Pairs{Symbol, Union{}, Tuple{}, NamedTuple{(), Tuple{}}}, Nothing}, sensealg::Nothing, u0::Float64, p::SciMLBase.NullParameters, args::TangXiaoSROCK2{Nothing}; kwargs::Base.Pairs{Symbol, Float64, Tuple{Symbol}, NamedTuple{(:dt,), Tuple{Float64}}})",
      "    @ DiffEqBase ~/.julia/packages/DiffEqBase/H7x4Q/src/solve.jl:1028",
      "  [9] solve_up",
      "    @ ~/.julia/packages/DiffEqBase/H7x4Q/src/solve.jl:1001 [inlined]",
      " [10] #solve#40",
      "    @ ~/.julia/packages/DiffEqBase/H7x4Q/src/solve.jl:938 [inlined]",
      " [11] top-level scope",
      "    @ In[20]:12"
     ]
    }
   ],
   "source": [
    "using DifferentialEquations\n",
    "\n",
    "α = 1\n",
    "β = 1\n",
    "u₀ = 1 / 2\n",
    "f(u, p, t) = 0\n",
    "g(u, p, t) = β * u\n",
    "dt = 0.0001\n",
    "tspan = (0.0, 10000.0)\n",
    "prob = SDEProblem(f, g, u₀, (0.0, 10000.0))\n",
    "\n",
    "sol = solve(prob, TangXiaoSROCK2(), dt = dt)\n",
    "using Plots\n",
    "plot(sol)"
   ]
  },
  {
   "cell_type": "markdown",
   "metadata": {},
   "source": [
    "# TODO List\n",
    "\n",
    "<!-- 1. Make simplified function for running 1D experiments without transforms [Done]\n",
    "2. Make simplified function for running 2D experiments without transforms\n",
    "3. Make simplified function for running ND experiments without transforms\n",
    "4. Implement 2D version of LMVD\n",
    "5. Implement ND version of LMVD\n",
    "6. Implement 1D version of Eugen-Gilles method [Done]\n",
    "7. Implement 2D version of Eugen-Gilles method\n",
    "8. Implement ND version of Eugen-Gilles method\n",
    "9. Improved automated plot creation (with multiple integrators per figure)\n",
    "10. Improved data management (create .txt files with mean and std convergence lines for each integrator)\n",
    "11. Plots of compute time for fixed error\n",
    "12. Comparison of effective stepsize\n",
    "13. More interesting 2D problem where tensorial noise could be beneficial\n",
    "14. Statistics problem? -->\n",
    "\n",
    "1. Replace sqrt(dt) with one evaluation for efficiency\n",
    "2. Fix implementation of 1D LMVD to work with new notation\n",
    "3. Run long experiments comparing performance of LMVD, EG, EM and HLM methods on 1D problem. Save plots and data\n",
    "4. Implement 2D version of Eugen-Gilles method"
   ]
  },
  {
   "cell_type": "markdown",
   "metadata": {},
   "source": []
  }
 ],
 "metadata": {
  "kernelspec": {
   "display_name": "Julia 8 threads 1.9.2",
   "language": "julia",
   "name": "julia-8-threads-1.9"
  },
  "language_info": {
   "file_extension": ".jl",
   "mimetype": "application/julia",
   "name": "julia",
   "version": "1.9.2"
  }
 },
 "nbformat": 4,
 "nbformat_minor": 2
}
