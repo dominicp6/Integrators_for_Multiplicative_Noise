{
 "cells": [
  {
   "cell_type": "code",
   "execution_count": 9,
   "metadata": {},
   "outputs": [
    {
     "name": "stderr",
     "output_type": "stream",
     "text": [
      "WARNING: replacing module Integrators.\n",
      "WARNING: replacing module Potentials.\n",
      "WARNING: replacing module DiffusionTensors.\n",
      "WARNING: replacing module ProbabilityUtils.\n",
      "WARNING: replacing module Experiments.\n"
     ]
    },
    {
     "data": {
      "text/plain": [
       "Main.Experiments"
      ]
     },
     "execution_count": 9,
     "metadata": {},
     "output_type": "execute_result"
    }
   ],
   "source": [
    "include(\"./general_utils/integrators.jl\")\n",
    "include(\"./general_utils/potentials.jl\")\n",
    "include(\"./general_utils/diffusion_tensors.jl\")\n",
    "include(\"./general_utils/probability_utils.jl\")\n",
    "include(\"./experiment_utils/experiments1D.jl\")"
   ]
  },
  {
   "cell_type": "code",
   "execution_count": 11,
   "metadata": {},
   "outputs": [],
   "source": [
    "import .Integrators: euler_maruyama1D, leimkuhler_matthews1D, hummer_leimkuhler_matthews1D, milstein_method1D, stochastic_heun1D, limit_method_with_variable_diffusion1D  \n",
    "import .Potentials: doubleWell1D, LM2013, localWell1D, transformedLocalWell1D, transformedLM2013, transformed2LM2013, softWell1D, transformedSoftWell1D, transformed2SoftWell1D\n",
    "import .DiffusionTensors: Dconst1D, Dabs1D, Dquadratic1D\n",
    "import .ProbabilityUtils: compute_1D_invariant_distribution\n",
    "import .Experiments: master_1D_experiment, run_1D_experiment_until_given_error"
   ]
  },
  {
   "cell_type": "code",
   "execution_count": 23,
   "metadata": {},
   "outputs": [],
   "source": [
    "exp_name = \"1D_experiment_test\"    # Name\n",
    "master_dir = \"simulation_results\"  # Directory to save results in\n",
    "T = 1000                           # length of simulation\n",
    "tau = 1                            # value of kT (noise amplitude scaling)\n",
    "num_repeats = 100     \n",
    "\n",
    "# The potential and diffusion coefficents to use\n",
    "potential = softWell1D\n",
    "diffusion = Dabs1D\n",
    "\n",
    "save_dir = \"$(master_dir)/$(exp_name)\"\n",
    "chunk_size = 100000;"
   ]
  },
  {
   "cell_type": "code",
   "execution_count": 15,
   "metadata": {},
   "outputs": [],
   "source": [
    "# The step sizes to use (to use a single step size, set stepsizes = [stepsize])\n",
    "num_step_sizes = 10\n",
    "\n",
    "# The range of stepsizes to use (defualt 10 step sizes in the range 10^{-2} to 10^{-1})\n",
    "stepsizes = 10 .^ range(-2,stop=-1,length=num_step_sizes);"
   ]
  },
  {
   "cell_type": "code",
   "execution_count": 17,
   "metadata": {},
   "outputs": [],
   "source": [
    "# The integrators to use (comma separated list)\n",
    "integrators = [milstein_method1D, leimkuhler_matthews1D, euler_maruyama1D];"
   ]
  },
  {
   "cell_type": "code",
   "execution_count": 18,
   "metadata": {},
   "outputs": [],
   "source": [
    "# The histogram parameters for binning\n",
    "xmin = -5\n",
    "xmax = 5\n",
    "n_bins = 30\n",
    "\n",
    "bin_boundaries = range(xmin, xmax, length=n_bins+1);"
   ]
  },
  {
   "cell_type": "code",
   "execution_count": 20,
   "metadata": {},
   "outputs": [],
   "source": [
    "time_transform = false\n",
    "space_transform = false;"
   ]
  },
  {
   "cell_type": "code",
   "execution_count": 21,
   "metadata": {},
   "outputs": [],
   "source": [
    "# Whether to save checkpoints\n",
    "checkpoint = false;"
   ]
  },
  {
   "cell_type": "code",
   "execution_count": 25,
   "metadata": {},
   "outputs": [
    {
     "name": "stderr",
     "output_type": "stream",
     "text": [
      "\u001b[36m\u001b[1m[ \u001b[22m\u001b[39m\u001b[36m\u001b[1mInfo: \u001b[22m\u001b[39mRunning: 1D_experiment_test\n",
      "\u001b[36m\u001b[1m[ \u001b[22m\u001b[39m\u001b[36m\u001b[1mInfo: \u001b[22m\u001b[39mComputing the Invariant Distribution\n"
     ]
    },
    {
     "name": "stdout",
     "output_type": "stream",
     "text": [
      "Integral of f: 3.1470712470055395\n",
      "Error in integral of f: 2.1867121678976683e-8\n"
     ]
    },
    {
     "name": "stderr",
     "output_type": "stream",
     "text": [
      "\u001b[36m\u001b[1m[ \u001b[22m\u001b[39m\u001b[36m\u001b[1mInfo: \u001b[22m\u001b[39mRunning Experiments\n",
      "\u001b[36m\u001b[1m[ \u001b[22m\u001b[39m\u001b[36m\u001b[1mInfo: \u001b[22m\u001b[39mRunning milstein_method1D experiment\n",
      "\u001b[36m\u001b[1m[ \u001b[22m\u001b[39m\u001b[36m\u001b[1mInfo: \u001b[22m\u001b[39mCreated directory simulation_results/1D_experiment_test\n",
      "\u001b[36m\u001b[1m[ \u001b[22m\u001b[39m\u001b[36m\u001b[1mInfo: \u001b[22m\u001b[39mSaving metadata\n",
      "1.0%┣▍                                         ┫ 1/100 [00:01<Inf:Inf, InfGs/it]\n",
      "54.0%┣███████████████████████▊                    ┫ 54/100 [00:01<00:01, 37it/s]\n",
      "75.0%┣█████████████████████████████████           ┫ 75/100 [00:02<00:01, 49it/s]\n",
      "100.0%┣██████████████████████████████████████████┫ 100/100 [00:02<00:00, 61it/s]\n",
      "\u001b[36m\u001b[1m[ \u001b[22m\u001b[39m\u001b[36m\u001b[1mInfo: \u001b[22m\u001b[39mSaving data\n",
      "\u001b[36m\u001b[1m[ \u001b[22m\u001b[39m\u001b[36m\u001b[1mInfo: \u001b[22m\u001b[39mMean L1 errors: [0.0025057544924530894; 0.0028648119368723805; 0.003633601990082477; 0.0044500056460202225; 0.005746180959813068; 0.007287104277624218; 0.009214717917829351; 0.011696050633081798; 0.014524076901790974; 0.01709741446267287;;]\n",
      "\u001b[36m\u001b[1m[ \u001b[22m\u001b[39m\u001b[36m\u001b[1mInfo: \u001b[22m\u001b[39mStandard deviation of L1 errors: [0.0005927003315962195; 0.0005438268002600518; 0.0005282700905353335; 0.0004180740166031895; 0.0004953046653829782; 0.0003975314822064515; 0.00038668177317731177; 0.0003555937690418692; 0.00034799891787302875; 0.00038723528856909076;;]\n",
      "\u001b[36m\u001b[1m[ \u001b[22m\u001b[39m\u001b[36m\u001b[1mInfo: \u001b[22m\u001b[39mRunning leimkuhler_matthews1D experiment\n",
      "2.0%┣█                                             ┫ 2/100 [00:00<00:09, 10it/s]\n",
      "9.0%┣████▏                                         ┫ 9/100 [00:00<00:02, 51it/s]\n",
      "35.0%┣███████████████                            ┫ 35/100 [00:00<00:00, 161it/s]\n",
      "61.0%┣██████████████████████████▎                ┫ 61/100 [00:00<00:00, 225it/s]\n",
      "91.0%┣███████████████████████████████████████▏   ┫ 91/100 [00:00<00:00, 268it/s]\n",
      "100.0%┣█████████████████████████████████████████┫ 100/100 [00:00<00:00, 255it/s]\n",
      "\u001b[36m\u001b[1m[ \u001b[22m\u001b[39m\u001b[36m\u001b[1mInfo: \u001b[22m\u001b[39mSaving data\n",
      "\u001b[36m\u001b[1m[ \u001b[22m\u001b[39m\u001b[36m\u001b[1mInfo: \u001b[22m\u001b[39mMean L1 errors: [0.0024272028363130135; 0.0024181250110078224; 0.002507874533663385; 0.002512039580402114; 0.002424985609537125; 0.0025604697484487744; 0.00278891093060898; 0.002707884201274164; 0.002968543130630865; 0.004167378348817756;;]\n",
      "\u001b[36m\u001b[1m[ \u001b[22m\u001b[39m\u001b[36m\u001b[1mInfo: \u001b[22m\u001b[39mStandard deviation of L1 errors: [0.001010296938158286; 0.0008527309223458891; 0.00102388653891977; 0.0008943483073276263; 0.0008079967966108706; 0.0009751269755280208; 0.0011141202180055016; 0.0009306344656076764; 0.0008792118425128552; 0.000532379734627824;;]\n",
      "\u001b[36m\u001b[1m[ \u001b[22m\u001b[39m\u001b[36m\u001b[1mInfo: \u001b[22m\u001b[39mRunning euler_maruyama1D experiment\n",
      "1.0%┣▍                                         ┫ 1/100 [00:00<Inf:Inf, InfGs/it]\n",
      "10.0%┣████▍                                       ┫ 10/100 [00:00<00:01, 74it/s]\n",
      "35.0%┣███████████████                            ┫ 35/100 [00:00<00:00, 197it/s]\n",
      "58.0%┣█████████████████████████                  ┫ 58/100 [00:00<00:00, 250it/s]\n",
      "82.0%┣███████████████████████████████████▎       ┫ 82/100 [00:00<00:00, 287it/s]\n",
      "98.0%┣██████████████████████████████████████████▏┫ 98/100 [00:00<00:00, 281it/s]\n",
      "100.0%┣█████████████████████████████████████████┫ 100/100 [00:00<00:00, 278it/s]\n",
      "\u001b[36m\u001b[1m[ \u001b[22m\u001b[39m\u001b[36m\u001b[1mInfo: \u001b[22m\u001b[39mSaving data\n",
      "\u001b[36m\u001b[1m[ \u001b[22m\u001b[39m\u001b[36m\u001b[1mInfo: \u001b[22m\u001b[39mMean L1 errors: [0.0023702884267025807; 0.0027221539248310834; 0.0033312395708711136; 0.004129560408956656; 0.00516472266353073; 0.006608127934688643; 0.00842564162035097; 0.010655837875551556; 0.013122691713870283; 0.015453221275154791;;]\n",
      "\u001b[36m\u001b[1m[ \u001b[22m\u001b[39m\u001b[36m\u001b[1mInfo: \u001b[22m\u001b[39mStandard deviation of L1 errors: [0.0006658738026917527; 0.0005525483644187349; 0.0005038047542098108; 0.0004863556521150088; 0.0004390527329048296; 0.0004317581254521779; 0.00034774347044075305; 0.00035709945931891845; 0.00032717740484427453; 0.0004009625408819112;;]\n"
     ]
    }
   ],
   "source": [
    "@info \"Running: $(exp_name)\"\n",
    "master_1D_experiment(integrators, num_repeats, potential, diffusion, T, tau, stepsizes, bin_boundaries, save_dir; chunk_size=chunk_size, checkpoint=checkpoint, q0=nothing, time_transform=time_transform, space_transform=space_transform, x_of_y=nothing)"
   ]
  },
  {
   "cell_type": "markdown",
   "metadata": {},
   "source": [
    "# TODO List\n",
    "\n",
    "1. Make simplified function for running 1D experiments without transforms\n",
    "2. Make simplified function for running 2D experiments without transforms\n",
    "3. Make simplified function for running ND experiments without transforms\n",
    "4. Implement 2D version of LMVD\n",
    "5. Implement ND version of LMVD\n",
    "6. Implement 1D version of Eugen-Gilles method\n",
    "7. Implement 2D version of Eugen-Gilles method\n",
    "8. Implement ND version of Eugen-Gilles method"
   ]
  },
  {
   "cell_type": "markdown",
   "metadata": {},
   "source": []
  }
 ],
 "metadata": {
  "kernelspec": {
   "display_name": "Julia 8 threads 1.9.2",
   "language": "julia",
   "name": "julia-8-threads-1.9"
  },
  "language_info": {
   "file_extension": ".jl",
   "mimetype": "application/julia",
   "name": "julia",
   "version": "1.9.2"
  }
 },
 "nbformat": 4,
 "nbformat_minor": 2
}
